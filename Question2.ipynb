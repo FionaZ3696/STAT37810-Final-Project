{
 "cells": [
  {
   "cell_type": "code",
   "execution_count": null,
   "metadata": {},
   "outputs": [],
   "source": [
    "import numpy as np\n",
    "import matplotlib.pyplot as plt"
   ]
  },
  {
   "cell_type": "code",
   "execution_count": null,
   "metadata": {},
   "outputs": [],
   "source": [
    "def inverse_sampler(B,theta):\n",
    "    u = np.random.random()\n",
    "    norm_constant = 1-np.exp(-B*theta)\n",
    "    x = -np.log(1-u*norm_constant)/theta\n",
    "    return(x)"
   ]
  },
  {
   "cell_type": "code",
   "execution_count": null,
   "metadata": {},
   "outputs": [],
   "source": [
    "def Gibbs_sampler(B,sample_size):\n",
    "    sample_chain = np.zeros(sample_size*2).reshape(2,sample_size)\n",
    "    start_y = B/2\n",
    "    for i in range(sample_size):\n",
    "        sample_chain[0,i] = inverse_sampler(B,start_y)\n",
    "        sample_chain[1,i] = inverse_sampler(B,sample_chain[0,i])\n",
    "        start_y = sample_chain[1,i]\n",
    "    return(sample_chain)"
   ]
  },
  {
   "cell_type": "code",
   "execution_count": null,
   "metadata": {},
   "outputs": [],
   "source": [
    "B = 5\n",
    "T = 500\n",
    "chain = Gibbs_sampler(B,T)\n",
    "plt.hist(chain[0,:],bins=50)\n",
    "plt.show()\n",
    "EX1=np.mean(chain[0,:])"
   ]
  },
  {
   "cell_type": "code",
   "execution_count": null,
   "metadata": {},
   "outputs": [],
   "source": [
    "T = 5000\n",
    "chain = Gibbs_sampler(B,T)\n",
    "plt.hist(chain[0,:],bins=50)\n",
    "plt.show()\n",
    "EX2=np.mean(chain[0,:])"
   ]
  },
  {
   "cell_type": "code",
   "execution_count": null,
   "metadata": {},
   "outputs": [],
   "source": [
    "T = 50000\n",
    "chain = Gibbs_sampler(B,T)\n",
    "plt.hist(chain[0,:],bins=50)\n",
    "plt.show()\n",
    "EX3=np.mean(chain[0,:])"
   ]
  }
 ],
 "metadata": {
  "kernelspec": {
   "display_name": "Python 3",
   "language": "python",
   "name": "python3"
  },
  "language_info": {
   "codemirror_mode": {
    "name": "ipython",
    "version": 3
   },
   "file_extension": ".py",
   "mimetype": "text/x-python",
   "name": "python",
   "nbconvert_exporter": "python",
   "pygments_lexer": "ipython3",
   "version": "3.6.2"
  }
 },
 "nbformat": 4,
 "nbformat_minor": 2
}
