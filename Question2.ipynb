{
 "cells": [
  {
   "cell_type": "markdown",
   "metadata": {},
   "source": [
    "## Q2. Gibbs Sampling"
   ]
  },
  {
   "cell_type": "markdown",
   "metadata": {},
   "source": [
    "*Author: Wenjing Xu, Yanfei Zhou, Yijia Zhao*"
   ]
  },
  {
   "cell_type": "markdown",
   "metadata": {},
   "source": [
    "**Step 1: Use Inverse Transform Sampling to generate the samples from the conditional distribution**"
   ]
  },
  {
   "cell_type": "markdown",
   "metadata": {},
   "source": [
    "From $P(x|y) \\propto ye^{-yx}$, $0 < x < B < \\infty$, we have $\\int_{0}^{B}Kye^{-yx} = 1$, so $K = \\frac{1}{1-e^{-yB}}$"
   ]
  },
  {
   "cell_type": "markdown",
   "metadata": {},
   "source": [
    "The CDF of this conditional distribution is $F(x|y) = \\frac{1}{1-e^{-yB}} (1- e^{-yx})$"
   ]
  },
  {
   "cell_type": "markdown",
   "metadata": {},
   "source": [
    "Further, the inverse of this CDF is $F^{-1}_{(x|y)}(u) = -\\frac{ln[1-u(1-e^{-yB})]}{y}$"
   ]
  },
  {
   "cell_type": "markdown",
   "metadata": {},
   "source": [
    "Similarly, we have $F^{-1}_{(y|x)}(u) = -\\frac{ln[1-u(1-e^{-xB})]}{x}$"
   ]
  },
  {
   "cell_type": "markdown",
   "metadata": {},
   "source": [
    "These inverse CDF's will be used to generate joint sample from the given conditional distribution."
   ]
  },
  {
   "cell_type": "markdown",
   "metadata": {},
   "source": [
    "**Step 2: We will then use Gibbs sampler to estimate the marginal distribution, and store results in a matrix.**"
   ]
  },
  {
   "cell_type": "code",
   "execution_count": 1,
   "metadata": {
    "collapsed": true
   },
   "outputs": [],
   "source": [
    "import numpy as np\n",
    "import matplotlib.pyplot as plt"
   ]
  },
  {
   "cell_type": "code",
   "execution_count": 2,
   "metadata": {
    "collapsed": true
   },
   "outputs": [],
   "source": [
    "## First define a functino that will give us the inverse CDF of the given conditional distribution.\n",
    "def inverse_sampler(B,theta):\n",
    "    u = np.random.random()\n",
    "    norm_constant = 1-np.exp(-B*theta)\n",
    "    x = -np.log(1-u*norm_constant)/theta\n",
    "    return(x)\n",
    "\n",
    "## Second, define a funtion that will return updated value of x and y based on the given conditional distribution. \n",
    "## The sequence we get can be used to approximate the joint distribution. \n",
    "def Gibbs_sampler(B,sample_size, start_value=1):\n",
    "    sample_chain = np.zeros(sample_size*2).reshape(2,sample_size)  # define a matrix to store results\n",
    "    start_y = start_value   # give a start value of y\n",
    "    for i in range(sample_size):\n",
    "        sample_chain[0,i] = inverse_sampler(B,start_y)   # update x value and store it in the first row of the matrix\n",
    "        sample_chain[1,i] = inverse_sampler(B,sample_chain[0,i]) # update y value and store it in the second row of the matrix\n",
    "        start_y = sample_chain[1,i]\n",
    "    return(sample_chain)"
   ]
  },
  {
   "cell_type": "markdown",
   "metadata": {},
   "source": [
    "Therefore, the `sample_chain` matrix will give us the approximate joint distribution of x and y based on the given conditional distribution."
   ]
  },
  {
   "cell_type": "markdown",
   "metadata": {},
   "source": [
    "**Step 3: For B=5, and for sample sizes T = 500,5000,50000, plot the histogram of values for x.**"
   ]
  },
  {
   "cell_type": "code",
   "execution_count": 3,
   "metadata": {},
   "outputs": [
    {
     "data": {
      "image/png": "[encoded data removed]",
      "text/plain": [
       "<matplotlib.figure.Figure at 0x2bf497bf7f0>"
      ]
     },
     "metadata": {},
     "output_type": "display_data"
    },
    {
     "data": {
      "image/png": "[encoded data removed]",
      "text/plain": [
       "<matplotlib.figure.Figure at 0x2bf497bfe48>"
      ]
     },
     "metadata": {},
     "output_type": "display_data"
    },
    {
     "data": {
      "image/png": "[encoded data removed]",
      "text/plain": [
       "<matplotlib.figure.Figure at 0x2bf498bba58>"
      ]
     },
     "metadata": {},
     "output_type": "display_data"
    }
   ],
   "source": [
    "chain1 = Gibbs_sampler(5,500)\n",
    "chain2 = Gibbs_sampler(5,5000)\n",
    "chain3 = Gibbs_sampler(5,50000)\n",
    "\n",
    "plt.hist(chain1[0,:],bins=50)\n",
    "plt.xlabel(\"Sampled x from T=500\")\n",
    "plt.show()\n",
    "\n",
    "plt.hist(chain2[0,:],bins=50)\n",
    "plt.xlabel(\"Sampled x from T=5000\")\n",
    "plt.show()\n",
    "\n",
    "plt.hist(chain3[0,:],bins=50)\n",
    "plt.xlabel(\"Sampled x from T=50000\")\n",
    "plt.show()"
   ]
  },
  {
   "cell_type": "markdown",
   "metadata": {},
   "source": [
    "As these three histograms show, with more numbers of iterations and larger sample size, the marginal distribution of X becomes more closer to exponetial distribution."
   ]
  },
  {
   "cell_type": "markdown",
   "metadata": {},
   "source": [
    "**Step 4: Provide an estimate of the expectation of X**"
   ]
  },
  {
   "cell_type": "markdown",
   "metadata": {},
   "source": [
    "Based on our simulated sample, it is straightforward to calculate the expectation of X from its marginal distribution. "
   ]
  },
  {
   "cell_type": "code",
   "execution_count": 4,
   "metadata": {},
   "outputs": [
    {
     "name": "stdout",
     "output_type": "stream",
     "text": [
      "E(x) estimated from 500 sampler = 1.29550437883\n",
      "E(x) estimated from 5000 sampler = 1.28369853795\n",
      "E(x) estimated from 50000 sampler = 1.2596060758\n"
     ]
    }
   ],
   "source": [
    "print (\"E(x) estimated from 500 sampler = %s\" % (np.mean(chain1[0,:])))\n",
    "print (\"E(x) estimated from 5000 sampler = %s\" % (np.mean(chain2[0,:])))\n",
    "print (\"E(x) estimated from 50000 sampler = %s\" % (np.mean(chain3[0,:])))"
   ]
  },
  {
   "cell_type": "markdown",
   "metadata": {},
   "source": [
    "Based on the samples of X from our Gibbs sampler, an estimate of the expectation of X that we can give is about 1.26.  "
   ]
  }
 ],
 "metadata": {
  "kernelspec": {
   "display_name": "Python 3",
   "language": "python",
   "name": "python3"
  },
  "language_info": {
   "codemirror_mode": {
    "name": "ipython",
    "version": 3
   },
   "file_extension": ".py",
   "mimetype": "text/x-python",
   "name": "python",
   "nbconvert_exporter": "python",
   "pygments_lexer": "ipython3",
   "version": "3.6.1"
  }
 },
 "nbformat": 4,
 "nbformat_minor": 2
}
